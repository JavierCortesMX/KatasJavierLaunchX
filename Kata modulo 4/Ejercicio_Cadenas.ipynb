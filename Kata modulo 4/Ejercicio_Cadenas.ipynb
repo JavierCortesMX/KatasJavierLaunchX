{
 "cells": [
  {
   "cell_type": "markdown",
   "metadata": {},
   "source": [
    "## Ejercicio 1: Transformar cadenas"
   ]
  },
  {
   "cell_type": "code",
   "execution_count": null,
   "metadata": {},
   "outputs": [],
   "source": [
    "text = \"Interesting facts about the Moon. The Moon is Earth's only satellite. There are several interesting facts about the Moon and how it affects life here on Earth. On average, the Moon moves 4cm away from the Earth every year. This yearly drift is not significant enough to cause immediate effects on Earth. The highest daylight temperature of the Moon is 127 C.\"\n",
    "\n",
    "# Primero, divide el texto en cada oración para trabajar con su contenido:\n",
    "\n",
    "partes = text.split('. ')\n",
    "print(partes)"
   ]
  },
  {
   "cell_type": "code",
   "execution_count": null,
   "metadata": {},
   "outputs": [],
   "source": [
    "# Define las palabras pista: average, temperature y distance suenan bien\n",
    "\n",
    "text = \"Interesting facts about the Moon. The Moon is Earth's only satellite. There are several interesting facts about the Moon and how it affects life here on Earth. On average, the Moon moves 4cm away from the Earth every year. This yearly drift is not significant enough to cause immediate effects on Earth. The highest daylight temperature of the Moon is 127 C.\"\n",
    "\n",
    "print(text.find(\"average\"))\n",
    "print(text.find(\"temperature\"))\n",
    "print(text.find(\"distance\"))\n"
   ]
  },
  {
   "cell_type": "code",
   "execution_count": null,
   "metadata": {},
   "outputs": [],
   "source": [
    "# Ciclo for para recorrer la cadena\n",
    "\n",
    "text = \"Interesting facts about the Moon. The Moon is Earth's only satellite. There are several interesting facts about the Moon and how it affects life here on Earth. On average, the Moon moves 4cm away from the Earth every year. This yearly drift is not significant enough to cause immediate effects on Earth. The highest daylight temperature of the Moon is 127 C.\"\n",
    "partes = text.split('. ')\n",
    "\n",
    "palabras = [\"average\", \"temperature\", \"distance\"]\n",
    "for sentencia in partes:\n",
    "    for palabra in palabras:\n",
    "        if palabra in sentencia:\n",
    "            print(sentencia)\n",
    "            break"
   ]
  },
  {
   "cell_type": "code",
   "execution_count": null,
   "metadata": {},
   "outputs": [],
   "source": [
    "# Ciclo para cambiar C a Celsius\n",
    "\n",
    "text = \"Interesting facts about the Moon. The Moon is Earth's only satellite. There are several interesting facts about the Moon and how it affects life here on Earth. On average, the Moon moves 4cm away from the Earth every year. This yearly drift is not significant enough to cause immediate effects on Earth. The highest daylight temperature of the Moon is 127 C.\"\n",
    "partes = text.split('. ')\n",
    "\n",
    "for sentencia in partes:\n",
    "    for palabra in palabras:\n",
    "        if palabra in sentencia:\n",
    "            print(sentencia.replace(' C', ' Celsius'))\n",
    "            break\n"
   ]
  },
  {
   "cell_type": "markdown",
   "metadata": {},
   "source": [
    "# Ejercicio 2: Formateando Cadenas"
   ]
  },
  {
   "cell_type": "code",
   "execution_count": null,
   "metadata": {},
   "outputs": [],
   "source": [
    "# Datos con los que vas a trabajar\n",
    "\n",
    "name = \"Moon\"\n",
    "gravity = 0.00162 # in kms\n",
    "planet = \"Earth\"\n",
    "\n",
    "# Creamos el título\n",
    "title = f'datos de gravedad sobre {name}'\n",
    "print(title)\n",
    "\n",
    "datos = f\"\"\"{'-'*80} \n",
    "Nombre del planeta: {planet} \n",
    "Gravedad en {name}: {gravity * 1000} m/s2 \n",
    "\"\"\"\n",
    "\n",
    "template = f\"\"\"{title.title()} \n",
    "{datos} \n",
    "\"\"\" \n",
    "print(datos)\n",
    "\n",
    "planeta = 'Marte '\n",
    "gravedad  = 0.00143\n",
    "nombre = 'Ganímedes'\n",
    "\n",
    "new_template = \"\"\"\n",
    "Datos de Gravedad sobre: {nombre}\n",
    "-------------------------------------------------------------------------------\n",
    "Nombre del planeta: {planeta}\n",
    "Gravedad en {nombre}: {gravedad} m/s2\n",
    "\"\"\"\n",
    "print(new_template.format(nombre=nombre, planeta=planeta, gravedad=gravedad))\n",
    "\n",
    "# Pista: print(nueva_plantilla.format(variables))\n",
    "print(new_template.format(nombre=nombre, planeta=planeta, gravedad=gravedad*1000))"
   ]
  }
 ],
 "metadata": {
  "interpreter": {
   "hash": "aee8b7b246df8f9039afb4144a1f6fd8d2ca17a180786b69acc140d282b71a49"
  },
  "kernelspec": {
   "display_name": "Python 3.10.2 64-bit",
   "language": "python",
   "name": "python3"
  },
  "language_info": {
   "codemirror_mode": {
    "name": "ipython",
    "version": 3
   },
   "file_extension": ".py",
   "mimetype": "text/x-python",
   "name": "python",
   "nbconvert_exporter": "python",
   "pygments_lexer": "ipython3",
   "version": "3.10.2"
  },
  "orig_nbformat": 4
 },
 "nbformat": 4,
 "nbformat_minor": 2
}
